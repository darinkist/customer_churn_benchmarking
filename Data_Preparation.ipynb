{
 "cells": [
  {
   "cell_type": "code",
   "execution_count": null,
   "id": "f2d4ca98",
   "metadata": {},
   "outputs": [],
   "source": [
    "import pandas as pd\n",
    "import numpy as np\n",
    "from scipy.io import arff\n",
    "from sklearn.pipeline import Pipeline\n",
    "from feature_engine.selection import (DropFeatures, DropConstantFeatures, \n",
    "                                      DropDuplicateFeatures)"
   ]
  },
  {
   "cell_type": "code",
   "execution_count": null,
   "id": "5ceb8b6b",
   "metadata": {},
   "outputs": [],
   "source": [
    "# Load data sets\n",
    "data_sets_raw = dict()\n",
    "\n",
    "# KDD (KDD Cup 2009: Customer relationship prediction)\n",
    "# https://www.openml.org/search?type=data&status=active&id=1112\n",
    "kdd_data = arff.loadarff('00_data/00_raw/KDDCup09_churn.arff')\n",
    "kdd_df = pd.DataFrame(kdd_data[0])\n",
    "# Ensure correct encoding\n",
    "kdd_df[kdd_df.select_dtypes(object).columns] = kdd_df.select_dtypes(object).apply(lambda x: x.str.decode('utf-8'))\n",
    "kdd_df[kdd_df.select_dtypes(object).columns] = kdd_df[kdd_df.select_dtypes(object).columns].replace({'?':np.nan})\n",
    "kdd_df.rename(columns={'CHURN':'churn'}, inplace=True)\n",
    "kdd_df['churn'].replace({\"-1\":False, \"1\":True}, inplace=True)\n",
    "kdd_df['churn'] = kdd_df['churn'].astype(bool)\n",
    "data_sets_raw['kdd'] = kdd_df\n",
    "\n",
    "# IBM HR Analytics Employee Attrition & Performance\n",
    "# https://www.kaggle.com/datasets/pavansubhasht/ibm-hr-analytics-attrition-dataset\n",
    "ibm_hr = pd.read_csv('00_data/00_raw/WA_Fn-UseC_-HR-Employee-Attrition.csv')\n",
    "ibm_hr.rename(columns={'Attrition':'churn'}, inplace=True)\n",
    "ibm_hr['churn'].replace({'No':False, 'Yes':True}, inplace=True)\n",
    "ibm_hr['churn'] = ibm_hr['churn'].astype(bool)\n",
    "ibm_hr.drop(columns=[\"EmployeeNumber\"], inplace=True)\n",
    "data_sets_raw['ibm_hr'] = ibm_hr\n",
    "\n",
    "# Customer Churn Prediction 2020\n",
    "# https://www.kaggle.com/competitions/customer-churn-prediction-2020/\n",
    "# Also available here: https://data.world/earino/churn\n",
    "ccp_2020 = pd.read_csv(\"00_data/00_raw/customer-churn-prediction-2020.csv\")\n",
    "ccp_2020['churn'].replace({'no':False, 'yes':True}, inplace=True)\n",
    "ccp_2020['churn'] = ccp_2020['churn'].astype(bool)\n",
    "data_sets_raw['ccp'] = ccp_2020\n",
    "\n",
    "# Portuguese Bank Marketing Data Set\n",
    "# https://www.kaggle.com/datasets/yufengsui/portuguese-bank-marketing-data-set\n",
    "prt_bank = pd.read_csv(\"00_data/00_raw/bank-full.csv\", delimiter=\";\")\n",
    "prt_bank['y'].replace({'no':False, 'yes':True}, inplace=True)\n",
    "prt_bank['y'] = prt_bank['y'].astype(bool)\n",
    "prt_bank.rename(columns={'y':'churn'}, inplace=True)\n",
    "data_sets_raw['prt_bank'] = prt_bank"
   ]
  },
  {
   "cell_type": "code",
   "execution_count": null,
   "id": "9e93b79a",
   "metadata": {},
   "outputs": [],
   "source": [
    "def df_pre_cleaning(df, threshold=0.2):\n",
    "    # Column names to lowercase\n",
    "    df = df.rename(columns=str.lower)\n",
    "    \n",
    "    # Keep only features with <20% missing values\n",
    "    x = df.isna().sum() / len(df)\n",
    "    df = df[x[threshold<0.2].index]\n",
    "    return df\n",
    "\n",
    "\n",
    "# Apply function to all data sets above\n",
    "data_sets_pc = dict((k, df_pre_cleaning(df)) for k,df in data_sets_raw.items())\n",
    "\n",
    "# Drop constant values or values that are unique\n",
    "data_sets_cleaned = dict()\n",
    "ppl = Pipeline([\n",
    "    ('drop_constant_values', DropConstantFeatures(tol=1, missing_values='ignore')),\n",
    "    ('drop_duplicates', DropDuplicateFeatures())\n",
    "])\n",
    "\n",
    "for k in data_sets_pc.keys():\n",
    "    data_sets_cleaned[k] = ppl.fit_transform(data_sets_pc[k])"
   ]
  },
  {
   "cell_type": "code",
   "execution_count": null,
   "id": "5de578fe",
   "metadata": {},
   "outputs": [],
   "source": [
    "# Summarize information about the column types in each data set\n",
    "def prep_stats(df, data_set_name):\n",
    "    dtypes_map = {'int64':'numeric', 'float64':'numeric', 'object':'object', 'category':'object',\n",
    "             'datetime64':'date', 'timedelta[ns]':'date', 'bool':'bool'}\n",
    "\n",
    "    k = df.dtypes.value_counts().reset_index()\n",
    "    k['index'].replace(dtypes_map, inplace=True)\n",
    "    k = k.groupby('index', as_index=False).sum()\n",
    "    k.set_index('index', inplace=True)\n",
    "    k.columns = [data_set_name]\n",
    "    \n",
    "    return k.to_dict()"
   ]
  },
  {
   "cell_type": "code",
   "execution_count": null,
   "id": "727db412",
   "metadata": {},
   "outputs": [],
   "source": [
    "data_sets_stats = {}"
   ]
  },
  {
   "cell_type": "code",
   "execution_count": null,
   "id": "8c4f3fcf",
   "metadata": {},
   "outputs": [],
   "source": [
    "for k in data_sets_cleaned.keys():\n",
    "\n",
    "    churn_rate = data_sets_cleaned[k].churn.value_counts().loc[True,] / (\n",
    "        data_sets_cleaned[k].churn.value_counts().loc[True,]+\n",
    "        data_sets_cleaned[k].churn.value_counts().loc[False,]\n",
    "    )\n",
    "     \n",
    "    data_sets_stats.update(prep_stats(data_sets_cleaned[k], k))\n",
    "    data_sets_stats[k].update({'churn':round(churn_rate,2)})"
   ]
  },
  {
   "cell_type": "code",
   "execution_count": null,
   "id": "ad02ba08",
   "metadata": {},
   "outputs": [],
   "source": [
    "pd.DataFrame(data_sets_stats)"
   ]
  },
  {
   "cell_type": "code",
   "execution_count": null,
   "id": "fa246a90",
   "metadata": {},
   "outputs": [],
   "source": [
    "# Store all the stuff\n",
    "for name, df in data_sets_cleaned.items():\n",
    "    df.to_csv('00_data/00_data/{}_cleaned.csv'.format(name), index=False)"
   ]
  },
  {
   "cell_type": "code",
   "execution_count": null,
   "id": "2f8ea174",
   "metadata": {},
   "outputs": [],
   "source": [
    "# Zip them: bnchmrk_datasets.tar.gz\n",
    "! tar -czf bnchmrk_datasets.tar.gz 00_data/"
   ]
  },
  {
   "cell_type": "code",
   "execution_count": null,
   "id": "1c75746f",
   "metadata": {},
   "outputs": [],
   "source": []
  }
 ],
 "metadata": {
  "hide_input": false,
  "kernelspec": {
   "display_name": "churn_bnchmrk",
   "language": "python",
   "name": "churn_bnchmrk"
  },
  "language_info": {
   "codemirror_mode": {
    "name": "ipython",
    "version": 3
   },
   "file_extension": ".py",
   "mimetype": "text/x-python",
   "name": "python",
   "nbconvert_exporter": "python",
   "pygments_lexer": "ipython3",
   "version": "3.9.2"
  },
  "toc": {
   "base_numbering": 1,
   "nav_menu": {},
   "number_sections": true,
   "sideBar": true,
   "skip_h1_title": false,
   "title_cell": "Table of Contents",
   "title_sidebar": "Contents",
   "toc_cell": false,
   "toc_position": {},
   "toc_section_display": true,
   "toc_window_display": false
  }
 },
 "nbformat": 4,
 "nbformat_minor": 5
}
